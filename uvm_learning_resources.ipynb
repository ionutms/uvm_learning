{
 "cells": [
  {
   "cell_type": "markdown",
   "id": "8fb047bd",
   "metadata": {},
   "source": [
    "[Siemens | UVM Basics | Verification Academy](https://www.youtube.com/playlist?list=PLWPf2kTT1_Z20pIAfQJ2gyNXLCLM1kUPB)\n"
   ]
  }
 ],
 "metadata": {
  "language_info": {
   "name": "python"
  }
 },
 "nbformat": 4,
 "nbformat_minor": 5
}
