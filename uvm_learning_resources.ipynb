{
 "cells": [
  {
   "cell_type": "markdown",
   "id": "8fb047bd",
   "metadata": {},
   "source": [
    "[Siemens | UVM Basics | Verification Academy](https://www.youtube.com/playlist?list=PLWPf2kTT1_Z20pIAfQJ2gyNXLCLM1kUPB)\n"
   ]
  },
  {
   "cell_type": "markdown",
   "id": "1ba1c512",
   "metadata": {},
   "source": [
    "[Siemens (Mentor Graphics) - Advanced UVM | Architecting a UVM Testbench](https://www.youtube.com/playlist?list=PLWPf2kTT1_Z35sPEwqHTMr1wtFw2X6p_C)"
   ]
  }
 ],
 "metadata": {
  "language_info": {
   "name": "python"
  }
 },
 "nbformat": 4,
 "nbformat_minor": 5
}
