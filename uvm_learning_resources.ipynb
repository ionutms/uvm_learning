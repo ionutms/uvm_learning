{
 "cells": [
  {
   "cell_type": "markdown",
   "id": "8fb047bd",
   "metadata": {},
   "source": [
    "[Siemens | UVM Basics | Verification Academy](https://www.youtube.com/playlist?list=PLWPf2kTT1_Z20pIAfQJ2gyNXLCLM1kUPB)"
   ]
  },
  {
   "cell_type": "markdown",
   "id": "1ba1c512",
   "metadata": {},
   "source": [
    "[Siemens (Mentor Graphics) - Advanced UVM | Architecting a UVM Testbench](https://www.youtube.com/playlist?list=PLWPf2kTT1_Z35sPEwqHTMr1wtFw2X6p_C)"
   ]
  },
  {
   "cell_type": "markdown",
   "id": "f614a911",
   "metadata": {},
   "source": [
    "[SystemVerilog Tutorial](https://www.chipverify.com/systemverilog/systemverilog-tutorial#google_vignette)"
   ]
  },
  {
   "cell_type": "markdown",
   "id": "f3eed234",
   "metadata": {},
   "source": [
    "[SystemVerilog Tutorial](https://www.asic-world.com/systemverilog/tutorial.html)"
   ]
  },
  {
   "cell_type": "markdown",
   "id": "b2a49ec6",
   "metadata": {},
   "source": [
    "# Complete UVM Learning Plan with Free Resources\n",
    "\n",
    "## Prerequisites Check\n",
    "- Basic Verilog knowledge\n",
    "- Understanding of digital design concepts\n",
    "- Familiarity with testbench concepts"
   ]
  },
  {
   "cell_type": "markdown",
   "id": "03faee8e",
   "metadata": {},
   "source": [
    "## Phase 1: Foundation (Weeks 1-3)"
   ]
  },
  {
   "cell_type": "markdown",
   "id": "cbb8862e",
   "metadata": {},
   "source": [
    "### Week 1: SystemVerilog Basics\n",
    "**Goals:** Master SystemVerilog fundamentals needed for UVM\n",
    "\n",
    "**Free Resources:**\n",
    "- **ChipVerify SystemVerilog Tutorial**: https://www.chipverify.com/systemverilog/systemverilog-tutorial\n",
    "- **ASIC World SystemVerilog**: http://www.asic-world.com/systemverilog/\n",
    "- **YouTube: SystemVerilog Tutorials by Verification Excellence**: Search for \"SystemVerilog basics\"\n",
    "\n",
    "**Practice:**\n",
    "- Write basic SystemVerilog classes\n",
    "- Practice interfaces and modports\n",
    "- Implement basic constraints and randomization"
   ]
  },
  {
   "cell_type": "markdown",
   "id": "4d7def6b",
   "metadata": {},
   "source": [
    "### Week 2: Object-Oriented Programming in SystemVerilog\n",
    "**Goals:** Understand OOP concepts essential for UVM\n",
    "\n",
    "**Free Resources:**\n",
    "- **ChipVerify OOP Tutorial**: https://www.chipverify.com/systemverilog/systemverilog-class\n",
    "- **Verification Academy Learning Path**: https://verificationacademy.com/topics/verification-methodology/systemverilog-uvm-learning-path (require registration)\n",
    "\n",
    "**Practice:**\n",
    "- Create inheritance hierarchies\n",
    "- Practice polymorphism and virtual methods\n",
    "- Implement factory patterns manually"
   ]
  },
  {
   "cell_type": "markdown",
   "id": "d65ec395",
   "metadata": {},
   "source": [
    "### Week 3: Advanced SystemVerilog\n",
    "**Goals:** Master advanced features used in UVM\n",
    "\n",
    "**Free Resources:**\n",
    "- **Doulos UVM KnowHow**: https://www.doulos.com/knowhow/systemverilog/uvm/\n",
    "- **GitHub SystemVerilog Examples**: Search \"SystemVerilog examples\"\n",
    "\n",
    "**Practice:**\n",
    "- Implement parameterized classes\n",
    "- Practice with handles and shallow/deep copy\n",
    "- Work with associative arrays and queues"
   ]
  },
  {
   "cell_type": "markdown",
   "id": "365bf76a",
   "metadata": {},
   "source": [
    "## Phase 2: UVM Fundamentals (Weeks 4-6)"
   ]
  },
  {
   "cell_type": "markdown",
   "id": "d6361488",
   "metadata": {},
   "source": [
    "### Week 4: UVM Introduction and Architecture\n",
    "**Goals:** Understand UVM philosophy and basic structure\n",
    "\n",
    "**Free Resources:**\n",
    "- **UVM Tutorial - Verification Guide**: https://verificationguide.com/uvm/uvm-tutorial/\n",
    "- **ChipVerify UVM Tutorial**: https://www.chipverify.com/tutorials/uvm\n",
    "- **Pedro Araújo's UVM Guide for Beginners**: https://colorlesscube.com/uvm-guide-for-beginners/\n",
    "\n",
    "**Study Topics:**\n",
    "- UVM class hierarchy\n",
    "- Test, Environment, Agent architecture\n",
    "- UVM phases (build, connect, run)\n",
    "- Factory pattern in UVM"
   ]
  },
  {
   "cell_type": "markdown",
   "id": "8a876862",
   "metadata": {},
   "source": [
    "### Week 5: UVM Base Classes and Components\n",
    "**Goals:** Learn core UVM components\n",
    "\n",
    "**Free Resources:**\n",
    "- **Doulos UVM Verification Primer**: https://www.doulos.com/knowhow/systemverilog/uvm/uvm-verification-primer/\n",
    "- **Free Udemy Course**: https://www.udemy.com/course/learn-ovm-uvm/ (Basic UVM concepts)\n",
    "\n",
    "**Practice:**\n",
    "- Create uvm_test\n",
    "- Build uvm_env\n",
    "- Implement uvm_agent"
   ]
  },
  {
   "cell_type": "markdown",
   "id": "9875c0cd",
   "metadata": {},
   "source": [
    "### Week 6: UVM Transaction Level Modeling\n",
    "**Goals:** Master sequence items and basic sequences\n",
    "\n",
    "**Free Resources:**\n",
    "- **GitHub Examples**: \n",
    "  - https://github.com/SeanOBoyle/uvm_example\n",
    "  - https://github.com/naragece/uvm-testbench-tutorial-simple-adder\n",
    "\n",
    "**Practice:**\n",
    "- Create uvm_sequence_item\n",
    "- Implement field macros\n",
    "- Write basic uvm_sequence"
   ]
  },
  {
   "cell_type": "markdown",
   "id": "06a5f8e6",
   "metadata": {},
   "source": [
    "## Phase 3: Building UVM Testbenches (Weeks 7-9)"
   ]
  },
  {
   "cell_type": "markdown",
   "id": "67e2899f",
   "metadata": {},
   "source": [
    "### Week 7: Driver and Monitor\n",
    "**Goals:** Implement stimulus generation and response collection\n",
    "\n",
    "**Free Resources:**\n",
    "- **GitHub UVM Practice**: https://github.com/Abdul-muheet-ghani/UVM-Practice\n",
    "- **ChipVerify Driver/Monitor Examples**: https://www.chipverify.com/tutorials/uvm\n",
    "\n",
    "**Practice:**\n",
    "- Build uvm_driver\n",
    "- Implement uvm_monitor\n",
    "- Connect driver and monitor to DUT"
   ]
  },
  {
   "cell_type": "markdown",
   "id": "541ff835",
   "metadata": {},
   "source": [
    "### Week 8: Sequencer and Sequences\n",
    "**Goals:** Master stimulus generation and sequence control\n",
    "\n",
    "**Free Resources:**\n",
    "- Continue with GitHub examples and ChipVerify tutorials\n",
    "- **YouTube**: Search \"UVM sequencer tutorial\"\n",
    "\n",
    "**Practice:**\n",
    "- Implement uvm_sequencer\n",
    "- Create complex sequences\n",
    "- Practice sequence control methods"
   ]
  },
  {
   "cell_type": "markdown",
   "id": "72b2aeaf",
   "metadata": {},
   "source": [
    "### Week 9: Complete Basic Testbench\n",
    "**Goals:** Integrate all components into working testbench\n",
    "\n",
    "**Free Resources:**\n",
    "- **Complete Example Projects on GitHub**:\n",
    "  - Search \"UVM testbench examples\"\n",
    "  - Look for FIFO, counter, or simple processor examples\n",
    "\n",
    "**Practice:**\n",
    "- Build complete UVM testbench for simple DUT\n",
    "- Run simulations with different tests\n",
    "- Debug and fix issues"
   ]
  },
  {
   "cell_type": "markdown",
   "id": "041b16f3",
   "metadata": {},
   "source": [
    "## Phase 4: Advanced UVM (Weeks 10-12)"
   ]
  },
  {
   "cell_type": "markdown",
   "id": "d19e92ce",
   "metadata": {},
   "source": [
    "### Week 10: Configuration and Factory\n",
    "**Goals:** Master UVM configuration database and factory\n",
    "\n",
    "**Free Resources:**\n",
    "- **Doulos UVM Examples**: https://www.doulos.com/knowhow/systemverilog/uvm/\n",
    "- **Verification Guide Advanced Topics**: https://verificationguide.com/uvm/\n",
    "\n",
    "**Practice:**\n",
    "- Use uvm_config_db extensively\n",
    "- Practice factory overrides\n",
    "- Implement configuration objects"
   ]
  },
  {
   "cell_type": "markdown",
   "id": "3ccaaf68",
   "metadata": {},
   "source": [
    "### Week 11: Scoreboards and Functional Coverage\n",
    "**Goals:** Learn verification closure techniques\n",
    "\n",
    "**Free Resources:**\n",
    "- Continue with advanced tutorials from previous resources\n",
    "- **YouTube**: Search \"UVM scoreboard tutorial\"\n",
    "\n",
    "**Practice:**\n",
    "- Implement reference model\n",
    "- Create scoreboards with TLM analysis ports\n",
    "- Add functional coverage"
   ]
  },
  {
   "cell_type": "markdown",
   "id": "91576f9f",
   "metadata": {},
   "source": [
    "### Week 12: Advanced Features and Real Projects\n",
    "**Goals:** Master advanced UVM features and work on complex projects\n",
    "\n",
    "**Free Resources:**\n",
    "- **GitHub Advanced Examples**: Search for AXI, UART, SPI UVM testbenches\n",
    "- **Open Source UVM Projects**: Explore complex verification environments\n",
    "\n",
    "**Practice:**\n",
    "- Implement virtual sequences\n",
    "- Use UVM register model\n",
    "- Work on protocol-specific testbenches"
   ]
  },
  {
   "cell_type": "markdown",
   "id": "7c1471f8",
   "metadata": {},
   "source": [
    "## Free Tools and Simulators\n",
    "\n",
    "### Open Source Options:\n",
    "1. **Verilator**: Free, fast simulator (limited UVM support)\n",
    "2. **Icarus Verilog**: Basic SystemVerilog support\n",
    "3. **EDA Playground**: Online simulator with UVM support (limited runtime)\n",
    "\n",
    "### Commercial Tools (Free Versions):\n",
    "1. **ModelSim DE (Student Edition)**: Free for educational use\n",
    "2. **Vivado Simulator**: Free with Xilinx Vivado\n",
    "3. **Questa Sim (Student Edition)**: Free student license"
   ]
  },
  {
   "cell_type": "markdown",
   "id": "f78147a3",
   "metadata": {},
   "source": [
    "## Additional Free Resources\n",
    "\n",
    "### Documentation:\n",
    "- **IEEE 1800.2 UVM Standard**: Official UVM specification\n",
    "- **Accellera UVM User Guide**: Comprehensive reference\n",
    "- **UVM Cookbook**: Practical examples and solutions\n",
    "\n",
    "### GitHub Repositories to Follow:\n",
    "- Search for: \"UVM examples\", \"SystemVerilog UVM\", \"verification testbench\"\n",
    "- Look for universities' verification courses (many publish their materials)\n",
    "\n",
    "### Online Communities:\n",
    "- **Verification Academy Forums**: Free registration for discussions\n",
    "- **Reddit r/FPGA**: SystemVerilog and UVM discussions\n",
    "- **Stack Overflow**: SystemVerilog and UVM tags"
   ]
  },
  {
   "cell_type": "markdown",
   "id": "f8683ede",
   "metadata": {},
   "source": [
    "## Weekly Time Commitment\n",
    "- **Study**: 8-10 hours per week\n",
    "- **Hands-on Practice**: 6-8 hours per week\n",
    "- **Review and Reinforcement**: 2-3 hours per week\n",
    "\n",
    "## Progress Tracking\n",
    "- Week 1-3: Basic SystemVerilog competency\n",
    "- Week 4-6: Understanding UVM architecture\n",
    "- Week 7-9: Building complete testbenches\n",
    "- Week 10-12: Advanced verification techniques\n",
    "\n",
    "## Success Metrics\n",
    "- Can build a complete UVM testbench from scratch\n",
    "- Understands UVM phases and component hierarchy\n",
    "- Can implement sequences and sequence items\n",
    "- Knows how to use configuration database and factory\n",
    "- Can create scoreboards and add functional coverage\n",
    "\n",
    "## Next Steps After Completion\n",
    "- Practice with industry-standard protocols (AXI, PCIe, Ethernet)\n",
    "- Learn UVM register model\n",
    "- Explore formal verification\n",
    "- Study advanced verification methodologies\n",
    "- Contribute to open-source verification projects"
   ]
  }
 ],
 "metadata": {
  "language_info": {
   "name": "python"
  }
 },
 "nbformat": 4,
 "nbformat_minor": 5
}
